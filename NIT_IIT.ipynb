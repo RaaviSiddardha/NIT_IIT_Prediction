{
 "cells": [
  {
   "cell_type": "code",
   "execution_count": null,
   "metadata": {},
   "outputs": [
    {
     "name": "stdout",
     "output_type": "stream",
     "text": [
      "Requirement already satisfied: scikit-learn in c:\\users\\siddu\\appdata\\local\\programs\\python\\python313\\lib\\site-packages (1.6.0)\n",
      "Requirement already satisfied: numpy>=1.19.5 in c:\\users\\siddu\\appdata\\local\\programs\\python\\python313\\lib\\site-packages (from scikit-learn) (2.2.0)\n",
      "Requirement already satisfied: scipy>=1.6.0 in c:\\users\\siddu\\appdata\\local\\programs\\python\\python313\\lib\\site-packages (from scikit-learn) (1.14.1)\n",
      "Requirement already satisfied: joblib>=1.2.0 in c:\\users\\siddu\\appdata\\local\\programs\\python\\python313\\lib\\site-packages (from scikit-learn) (1.4.2)\n",
      "Requirement already satisfied: threadpoolctl>=3.1.0 in c:\\users\\siddu\\appdata\\local\\programs\\python\\python313\\lib\\site-packages (from scikit-learn) (3.5.0)\n",
      "Note: you may need to restart the kernel to use updated packages.\n"
     ]
    },
    {
     "name": "stderr",
     "output_type": "stream",
     "text": [
      "\n",
      "[notice] A new release of pip is available: 24.3.1 -> 25.0\n",
      "[notice] To update, run: python.exe -m pip install --upgrade pip\n"
     ]
    }
   ],
   "source": [
    "pip install scikit-learn\n"
   ]
  },
  {
   "cell_type": "code",
   "execution_count": 1,
   "metadata": {},
   "outputs": [],
   "source": [
    "import pandas as pd\n",
    "import numpy as np\n",
    "from sklearn.model_selection import train_test_split\n",
    "from sklearn.ensemble import RandomForestRegressor\n",
    "from sklearn.metrics import mean_absolute_error, mean_squared_error\n",
    "from sklearn.preprocessing import OneHotEncoder,LabelEncoder,StandardScaler\n",
    "import matplotlib.pyplot as plt\n",
    "import seaborn as sns\n"
   ]
  },
  {
   "cell_type": "code",
   "execution_count": 60,
   "metadata": {},
   "outputs": [
    {
     "name": "stderr",
     "output_type": "stream",
     "text": [
      "C:\\Users\\siddu\\AppData\\Local\\Temp\\ipykernel_43404\\361010661.py:1: DtypeWarning: Columns (22) have mixed types. Specify dtype option on import or set low_memory=False.\n",
      "  data=pd.read_csv(r\"C:\\Users\\siddu\\OneDrive\\Desktop\\NIT_IIT Project\\new_data1.csv\")\n"
     ]
    },
    {
     "data": {
      "text/html": [
       "<div>\n",
       "<style scoped>\n",
       "    .dataframe tbody tr th:only-of-type {\n",
       "        vertical-align: middle;\n",
       "    }\n",
       "\n",
       "    .dataframe tbody tr th {\n",
       "        vertical-align: top;\n",
       "    }\n",
       "\n",
       "    .dataframe thead th {\n",
       "        text-align: right;\n",
       "    }\n",
       "</style>\n",
       "<table border=\"1\" class=\"dataframe\">\n",
       "  <thead>\n",
       "    <tr style=\"text-align: right;\">\n",
       "      <th></th>\n",
       "      <th>id</th>\n",
       "      <th>year</th>\n",
       "      <th>institute_type</th>\n",
       "      <th>round_no</th>\n",
       "      <th>quota</th>\n",
       "      <th>pool</th>\n",
       "      <th>institute_short</th>\n",
       "      <th>program_name</th>\n",
       "      <th>program_duration</th>\n",
       "      <th>degree_short</th>\n",
       "      <th>...</th>\n",
       "      <th>is_preparatory</th>\n",
       "      <th>Unnamed: 14</th>\n",
       "      <th>Unnamed: 15</th>\n",
       "      <th>Unnamed: 16</th>\n",
       "      <th>Unnamed: 17</th>\n",
       "      <th>Unnamed: 18</th>\n",
       "      <th>Unnamed: 19</th>\n",
       "      <th>Unnamed: 20</th>\n",
       "      <th>Unnamed: 21</th>\n",
       "      <th>Unnamed: 22</th>\n",
       "    </tr>\n",
       "  </thead>\n",
       "  <tbody>\n",
       "    <tr>\n",
       "      <th>0</th>\n",
       "      <td>1</td>\n",
       "      <td>2016</td>\n",
       "      <td>IIT</td>\n",
       "      <td>6</td>\n",
       "      <td>AI</td>\n",
       "      <td>Gender-Neutral</td>\n",
       "      <td>IIT-Bombay</td>\n",
       "      <td>Aerospace Engineering</td>\n",
       "      <td>4 Years</td>\n",
       "      <td>B.Tech</td>\n",
       "      <td>...</td>\n",
       "      <td>0</td>\n",
       "      <td>NaN</td>\n",
       "      <td>NaN</td>\n",
       "      <td>NaN</td>\n",
       "      <td>NaN</td>\n",
       "      <td>NaN</td>\n",
       "      <td>NaN</td>\n",
       "      <td>NaN</td>\n",
       "      <td>NaN</td>\n",
       "      <td>NaN</td>\n",
       "    </tr>\n",
       "    <tr>\n",
       "      <th>1</th>\n",
       "      <td>2</td>\n",
       "      <td>2016</td>\n",
       "      <td>IIT</td>\n",
       "      <td>6</td>\n",
       "      <td>AI</td>\n",
       "      <td>Gender-Neutral</td>\n",
       "      <td>IIT-Bombay</td>\n",
       "      <td>Aerospace Engineering</td>\n",
       "      <td>4 Years</td>\n",
       "      <td>B.Tech</td>\n",
       "      <td>...</td>\n",
       "      <td>0</td>\n",
       "      <td>NaN</td>\n",
       "      <td>NaN</td>\n",
       "      <td>NaN</td>\n",
       "      <td>NaN</td>\n",
       "      <td>NaN</td>\n",
       "      <td>NaN</td>\n",
       "      <td>NaN</td>\n",
       "      <td>NaN</td>\n",
       "      <td>NaN</td>\n",
       "    </tr>\n",
       "    <tr>\n",
       "      <th>2</th>\n",
       "      <td>3</td>\n",
       "      <td>2016</td>\n",
       "      <td>IIT</td>\n",
       "      <td>6</td>\n",
       "      <td>AI</td>\n",
       "      <td>Gender-Neutral</td>\n",
       "      <td>IIT-Bombay</td>\n",
       "      <td>Aerospace Engineering</td>\n",
       "      <td>4 Years</td>\n",
       "      <td>B.Tech</td>\n",
       "      <td>...</td>\n",
       "      <td>0</td>\n",
       "      <td>NaN</td>\n",
       "      <td>NaN</td>\n",
       "      <td>NaN</td>\n",
       "      <td>NaN</td>\n",
       "      <td>NaN</td>\n",
       "      <td>NaN</td>\n",
       "      <td>NaN</td>\n",
       "      <td>NaN</td>\n",
       "      <td>NaN</td>\n",
       "    </tr>\n",
       "    <tr>\n",
       "      <th>3</th>\n",
       "      <td>4</td>\n",
       "      <td>2016</td>\n",
       "      <td>IIT</td>\n",
       "      <td>6</td>\n",
       "      <td>AI</td>\n",
       "      <td>Gender-Neutral</td>\n",
       "      <td>IIT-Bombay</td>\n",
       "      <td>Aerospace Engineering</td>\n",
       "      <td>4 Years</td>\n",
       "      <td>B.Tech</td>\n",
       "      <td>...</td>\n",
       "      <td>0</td>\n",
       "      <td>NaN</td>\n",
       "      <td>NaN</td>\n",
       "      <td>NaN</td>\n",
       "      <td>NaN</td>\n",
       "      <td>NaN</td>\n",
       "      <td>NaN</td>\n",
       "      <td>NaN</td>\n",
       "      <td>NaN</td>\n",
       "      <td>NaN</td>\n",
       "    </tr>\n",
       "    <tr>\n",
       "      <th>4</th>\n",
       "      <td>5</td>\n",
       "      <td>2016</td>\n",
       "      <td>IIT</td>\n",
       "      <td>6</td>\n",
       "      <td>AI</td>\n",
       "      <td>Gender-Neutral</td>\n",
       "      <td>IIT-Bombay</td>\n",
       "      <td>Aerospace Engineering</td>\n",
       "      <td>4 Years</td>\n",
       "      <td>B.Tech</td>\n",
       "      <td>...</td>\n",
       "      <td>0</td>\n",
       "      <td>NaN</td>\n",
       "      <td>NaN</td>\n",
       "      <td>NaN</td>\n",
       "      <td>NaN</td>\n",
       "      <td>NaN</td>\n",
       "      <td>NaN</td>\n",
       "      <td>NaN</td>\n",
       "      <td>NaN</td>\n",
       "      <td>NaN</td>\n",
       "    </tr>\n",
       "  </tbody>\n",
       "</table>\n",
       "<p>5 rows × 23 columns</p>\n",
       "</div>"
      ],
      "text/plain": [
       "   id  year institute_type  round_no quota            pool institute_short  \\\n",
       "0   1  2016            IIT         6    AI  Gender-Neutral      IIT-Bombay   \n",
       "1   2  2016            IIT         6    AI  Gender-Neutral      IIT-Bombay   \n",
       "2   3  2016            IIT         6    AI  Gender-Neutral      IIT-Bombay   \n",
       "3   4  2016            IIT         6    AI  Gender-Neutral      IIT-Bombay   \n",
       "4   5  2016            IIT         6    AI  Gender-Neutral      IIT-Bombay   \n",
       "\n",
       "            program_name program_duration degree_short  ... is_preparatory  \\\n",
       "0  Aerospace Engineering          4 Years       B.Tech  ...              0   \n",
       "1  Aerospace Engineering          4 Years       B.Tech  ...              0   \n",
       "2  Aerospace Engineering          4 Years       B.Tech  ...              0   \n",
       "3  Aerospace Engineering          4 Years       B.Tech  ...              0   \n",
       "4  Aerospace Engineering          4 Years       B.Tech  ...              0   \n",
       "\n",
       "   Unnamed: 14  Unnamed: 15  Unnamed: 16  Unnamed: 17  Unnamed: 18  \\\n",
       "0          NaN          NaN          NaN          NaN          NaN   \n",
       "1          NaN          NaN          NaN          NaN          NaN   \n",
       "2          NaN          NaN          NaN          NaN          NaN   \n",
       "3          NaN          NaN          NaN          NaN          NaN   \n",
       "4          NaN          NaN          NaN          NaN          NaN   \n",
       "\n",
       "   Unnamed: 19  Unnamed: 20  Unnamed: 21  Unnamed: 22  \n",
       "0          NaN          NaN          NaN          NaN  \n",
       "1          NaN          NaN          NaN          NaN  \n",
       "2          NaN          NaN          NaN          NaN  \n",
       "3          NaN          NaN          NaN          NaN  \n",
       "4          NaN          NaN          NaN          NaN  \n",
       "\n",
       "[5 rows x 23 columns]"
      ]
     },
     "execution_count": 60,
     "metadata": {},
     "output_type": "execute_result"
    }
   ],
   "source": [
    "data=pd.read_csv(r\"C:\\Users\\siddu\\OneDrive\\Desktop\\NIT_IIT Project\\new_data1.csv\")\n",
    "data.head()"
   ]
  },
  {
   "cell_type": "code",
   "execution_count": 61,
   "metadata": {},
   "outputs": [
    {
     "name": "stdout",
     "output_type": "stream",
     "text": [
      "<class 'pandas.core.frame.DataFrame'>\n",
      "RangeIndex: 39999 entries, 0 to 39998\n",
      "Data columns (total 23 columns):\n",
      " #   Column            Non-Null Count  Dtype  \n",
      "---  ------            --------------  -----  \n",
      " 0   id                39999 non-null  int64  \n",
      " 1   year              39999 non-null  int64  \n",
      " 2   institute_type    39999 non-null  object \n",
      " 3   round_no          39999 non-null  int64  \n",
      " 4   quota             39999 non-null  object \n",
      " 5   pool              39999 non-null  object \n",
      " 6   institute_short   39999 non-null  object \n",
      " 7   program_name      39999 non-null  object \n",
      " 8   program_duration  39999 non-null  object \n",
      " 9   degree_short      39999 non-null  object \n",
      " 10  category          39999 non-null  object \n",
      " 11  opening_rank      39999 non-null  int64  \n",
      " 12  closing_rank      39999 non-null  int64  \n",
      " 13  is_preparatory    39999 non-null  int64  \n",
      " 14  Unnamed: 14       0 non-null      float64\n",
      " 15  Unnamed: 15       0 non-null      float64\n",
      " 16  Unnamed: 16       0 non-null      float64\n",
      " 17  Unnamed: 17       0 non-null      float64\n",
      " 18  Unnamed: 18       0 non-null      float64\n",
      " 19  Unnamed: 19       0 non-null      float64\n",
      " 20  Unnamed: 20       0 non-null      float64\n",
      " 21  Unnamed: 21       0 non-null      float64\n",
      " 22  Unnamed: 22       1 non-null      object \n",
      "dtypes: float64(8), int64(6), object(9)\n",
      "memory usage: 7.0+ MB\n"
     ]
    }
   ],
   "source": [
    "data.info()"
   ]
  },
  {
   "cell_type": "code",
   "execution_count": 62,
   "metadata": {},
   "outputs": [
    {
     "name": "stdout",
     "output_type": "stream",
     "text": [
      "Original Data Shape: (39999, 23)\n"
     ]
    }
   ],
   "source": [
    "print(\"Original Data Shape:\", data.shape)\n"
   ]
  },
  {
   "cell_type": "code",
   "execution_count": 63,
   "metadata": {},
   "outputs": [
    {
     "name": "stdout",
     "output_type": "stream",
     "text": [
      "['IIT' 'NIT']\n"
     ]
    }
   ],
   "source": [
    "print(data['institute_type'].unique())\n"
   ]
  },
  {
   "cell_type": "code",
   "execution_count": 64,
   "metadata": {},
   "outputs": [
    {
     "name": "stdout",
     "output_type": "stream",
     "text": [
      "Filtered Data Shape: (39999, 23)\n"
     ]
    }
   ],
   "source": [
    "filtered_data = data[data['institute_type'].isin(['IIT', 'NIT'])]\n",
    "print(\"Filtered Data Shape:\", filtered_data.shape)\n"
   ]
  },
  {
   "cell_type": "code",
   "execution_count": 65,
   "metadata": {},
   "outputs": [],
   "source": [
    "filtered_data = data[data['institute_type'].isin(['IIT', 'NIT'])]"
   ]
  },
  {
   "cell_type": "code",
   "execution_count": 66,
   "metadata": {},
   "outputs": [],
   "source": [
    "filtered_data = filtered_data.drop(columns=['id'])"
   ]
  },
  {
   "cell_type": "code",
   "execution_count": 67,
   "metadata": {},
   "outputs": [
    {
     "name": "stdout",
     "output_type": "stream",
     "text": [
      "<class 'pandas.core.frame.DataFrame'>\n",
      "RangeIndex: 39999 entries, 0 to 39998\n",
      "Data columns (total 22 columns):\n",
      " #   Column            Non-Null Count  Dtype  \n",
      "---  ------            --------------  -----  \n",
      " 0   year              39999 non-null  int64  \n",
      " 1   institute_type    39999 non-null  object \n",
      " 2   round_no          39999 non-null  int64  \n",
      " 3   quota             39999 non-null  object \n",
      " 4   pool              39999 non-null  object \n",
      " 5   institute_short   39999 non-null  object \n",
      " 6   program_name      39999 non-null  object \n",
      " 7   program_duration  39999 non-null  object \n",
      " 8   degree_short      39999 non-null  object \n",
      " 9   category          39999 non-null  object \n",
      " 10  opening_rank      39999 non-null  int64  \n",
      " 11  closing_rank      39999 non-null  int64  \n",
      " 12  is_preparatory    39999 non-null  int64  \n",
      " 13  Unnamed: 14       0 non-null      float64\n",
      " 14  Unnamed: 15       0 non-null      float64\n",
      " 15  Unnamed: 16       0 non-null      float64\n",
      " 16  Unnamed: 17       0 non-null      float64\n",
      " 17  Unnamed: 18       0 non-null      float64\n",
      " 18  Unnamed: 19       0 non-null      float64\n",
      " 19  Unnamed: 20       0 non-null      float64\n",
      " 20  Unnamed: 21       0 non-null      float64\n",
      " 21  Unnamed: 22       1 non-null      object \n",
      "dtypes: float64(8), int64(5), object(9)\n",
      "memory usage: 6.7+ MB\n"
     ]
    }
   ],
   "source": [
    "filtered_data.info()"
   ]
  },
  {
   "cell_type": "code",
   "execution_count": 68,
   "metadata": {},
   "outputs": [
    {
     "name": "stdout",
     "output_type": "stream",
     "text": [
      "year                    0\n",
      "institute_type          0\n",
      "round_no                0\n",
      "quota                   0\n",
      "pool                    0\n",
      "institute_short         0\n",
      "program_name            0\n",
      "program_duration        0\n",
      "degree_short            0\n",
      "category                0\n",
      "opening_rank            0\n",
      "closing_rank            0\n",
      "is_preparatory          0\n",
      "Unnamed: 14         39999\n",
      "Unnamed: 15         39999\n",
      "Unnamed: 16         39999\n",
      "Unnamed: 17         39999\n",
      "Unnamed: 18         39999\n",
      "Unnamed: 19         39999\n",
      "Unnamed: 20         39999\n",
      "Unnamed: 21         39999\n",
      "Unnamed: 22         39998\n",
      "dtype: int64\n"
     ]
    }
   ],
   "source": [
    "print(filtered_data.isnull().sum())"
   ]
  },
  {
   "cell_type": "code",
   "execution_count": 76,
   "metadata": {},
   "outputs": [],
   "source": [
    "filtered_data = filtered_data.drop(columns=filtered_data.columns[13:22])"
   ]
  },
  {
   "cell_type": "code",
   "execution_count": 77,
   "metadata": {},
   "outputs": [
    {
     "name": "stdout",
     "output_type": "stream",
     "text": [
      "<class 'pandas.core.frame.DataFrame'>\n",
      "RangeIndex: 39999 entries, 0 to 39998\n",
      "Data columns (total 13 columns):\n",
      " #   Column            Non-Null Count  Dtype \n",
      "---  ------            --------------  ----- \n",
      " 0   year              39999 non-null  int64 \n",
      " 1   institute_type    39999 non-null  object\n",
      " 2   round_no          39999 non-null  int64 \n",
      " 3   quota             39999 non-null  object\n",
      " 4   pool              39999 non-null  object\n",
      " 5   institute_short   39999 non-null  object\n",
      " 6   program_name      39999 non-null  object\n",
      " 7   program_duration  39999 non-null  object\n",
      " 8   degree_short      39999 non-null  object\n",
      " 9   category          39999 non-null  object\n",
      " 10  opening_rank      39999 non-null  int64 \n",
      " 11  closing_rank      39999 non-null  int64 \n",
      " 12  is_preparatory    39999 non-null  int64 \n",
      "dtypes: int64(5), object(8)\n",
      "memory usage: 4.0+ MB\n"
     ]
    }
   ],
   "source": [
    "filtered_data.info()"
   ]
  },
  {
   "cell_type": "code",
   "execution_count": 78,
   "metadata": {},
   "outputs": [
    {
     "name": "stdout",
     "output_type": "stream",
     "text": [
      "<class 'pandas.core.frame.DataFrame'>\n",
      "RangeIndex: 39999 entries, 0 to 39998\n",
      "Data columns (total 13 columns):\n",
      " #   Column            Non-Null Count  Dtype \n",
      "---  ------            --------------  ----- \n",
      " 0   year              39999 non-null  int64 \n",
      " 1   institute_type    39999 non-null  object\n",
      " 2   round_no          39999 non-null  int64 \n",
      " 3   quota             39999 non-null  object\n",
      " 4   pool              39999 non-null  object\n",
      " 5   institute_short   39999 non-null  object\n",
      " 6   program_name      39999 non-null  object\n",
      " 7   program_duration  39999 non-null  object\n",
      " 8   degree_short      39999 non-null  object\n",
      " 9   category          39999 non-null  object\n",
      " 10  opening_rank      39999 non-null  int64 \n",
      " 11  closing_rank      39999 non-null  int64 \n",
      " 12  is_preparatory    39999 non-null  int64 \n",
      "dtypes: int64(5), object(8)\n",
      "memory usage: 4.0+ MB\n"
     ]
    }
   ],
   "source": [
    "filtered_data.info()"
   ]
  },
  {
   "cell_type": "code",
   "execution_count": 79,
   "metadata": {},
   "outputs": [
    {
     "name": "stdout",
     "output_type": "stream",
     "text": [
      "(39999, 13)\n"
     ]
    }
   ],
   "source": [
    "print(filtered_data.shape)"
   ]
  },
  {
   "cell_type": "code",
   "execution_count": 80,
   "metadata": {},
   "outputs": [],
   "source": [
    "categorical_cols = ['institute_type', 'quota', 'pool', 'institute_short', 'program_name', 'degree_short', 'category']\n",
    "numerical_cols = ['year', 'round_no', 'program_duration']"
   ]
  },
  {
   "cell_type": "code",
   "execution_count": 81,
   "metadata": {},
   "outputs": [],
   "source": [
    "encoder = OneHotEncoder(drop='first')\n",
    "\n",
    "# Apply the encoder to the categorical columns\n",
    "encoded_features = encoder.fit_transform(filtered_data[categorical_cols])\n",
    "\n",
    "# Convert the sparse matrix to a DataFrame if necessary\n",
    "encoded_features_df = pd.DataFrame(encoded_features.toarray(), columns=encoder.get_feature_names_out(categorical_cols))\n",
    "\n",
    "# Add encoded features to the data\n",
    "filtered_data = pd.concat([filtered_data[numerical_cols], encoded_features_df, filtered_data[['opening_rank', 'closing_rank']]], axis=1)\n",
    "\n",
    "\n"
   ]
  },
  {
   "cell_type": "code",
   "execution_count": 85,
   "metadata": {},
   "outputs": [
    {
     "name": "stdout",
     "output_type": "stream",
     "text": [
      "       year  round_no program_duration  institute_type_NIT  quota_AP  \\\n",
      "0      2016         6          4 Years                 0.0       0.0   \n",
      "1      2016         6          4 Years                 0.0       0.0   \n",
      "2      2016         6          4 Years                 0.0       0.0   \n",
      "3      2016         6          4 Years                 0.0       0.0   \n",
      "4      2016         6          4 Years                 0.0       0.0   \n",
      "...     ...       ...              ...                 ...       ...   \n",
      "39994  2020         6          4 Years                 1.0       0.0   \n",
      "39995  2020         6          4 Years                 1.0       0.0   \n",
      "39996  2020         6          4 Years                 1.0       0.0   \n",
      "39997  2020         6          4 Years                 1.0       0.0   \n",
      "39998  2020         6          4 Years                 1.0       0.0   \n",
      "\n",
      "       quota_GO  quota_HS  quota_OS  pool_Gender-Neutral  \\\n",
      "0           0.0       0.0       0.0                  1.0   \n",
      "1           0.0       0.0       0.0                  1.0   \n",
      "2           0.0       0.0       0.0                  1.0   \n",
      "3           0.0       0.0       0.0                  1.0   \n",
      "4           0.0       0.0       0.0                  1.0   \n",
      "...         ...       ...       ...                  ...   \n",
      "39994       0.0       0.0       1.0                  1.0   \n",
      "39995       0.0       0.0       1.0                  0.0   \n",
      "39996       0.0       0.0       1.0                  1.0   \n",
      "39997       0.0       0.0       1.0                  0.0   \n",
      "39998       0.0       0.0       1.0                  1.0   \n",
      "\n",
      "       institute_short_IIT-(ISM) Dhanbad  ...  category_GEN-EWS-PWD  \\\n",
      "0                                    0.0  ...                   0.0   \n",
      "1                                    0.0  ...                   0.0   \n",
      "2                                    0.0  ...                   0.0   \n",
      "3                                    0.0  ...                   0.0   \n",
      "4                                    0.0  ...                   0.0   \n",
      "...                                  ...  ...                   ...   \n",
      "39994                                0.0  ...                   0.0   \n",
      "39995                                0.0  ...                   0.0   \n",
      "39996                                0.0  ...                   0.0   \n",
      "39997                                0.0  ...                   0.0   \n",
      "39998                                0.0  ...                   0.0   \n",
      "\n",
      "       category_GEN-PWD  category_OBC-NCL  category_OBC-NCL-PWD  category_SC  \\\n",
      "0                   0.0               0.0                   0.0          0.0   \n",
      "1                   0.0               1.0                   0.0          0.0   \n",
      "2                   0.0               0.0                   0.0          1.0   \n",
      "3                   0.0               0.0                   0.0          0.0   \n",
      "4                   1.0               0.0                   0.0          0.0   \n",
      "...                 ...               ...                   ...          ...   \n",
      "39994               0.0               0.0                   0.0          0.0   \n",
      "39995               0.0               0.0                   0.0          0.0   \n",
      "39996               0.0               1.0                   0.0          0.0   \n",
      "39997               0.0               1.0                   0.0          0.0   \n",
      "39998               0.0               0.0                   0.0          1.0   \n",
      "\n",
      "       category_SC-PWD  category_ST  category_ST-PWD  opening_rank  \\\n",
      "0                  0.0          0.0              0.0           838   \n",
      "1                  0.0          0.0              0.0           408   \n",
      "2                  0.0          0.0              0.0           297   \n",
      "3                  0.0          1.0              0.0            79   \n",
      "4                  0.0          0.0              0.0            94   \n",
      "...                ...          ...              ...           ...   \n",
      "39994              0.0          0.0              0.0         43206   \n",
      "39995              0.0          0.0              0.0         58174   \n",
      "39996              0.0          0.0              0.0         12828   \n",
      "39997              0.0          0.0              0.0         19438   \n",
      "39998              0.0          0.0              0.0          5853   \n",
      "\n",
      "       closing_rank  \n",
      "0              1841  \n",
      "1              1098  \n",
      "2               468  \n",
      "3               145  \n",
      "4                94  \n",
      "...             ...  \n",
      "39994         47412  \n",
      "39995         58174  \n",
      "39996         13352  \n",
      "39997         19438  \n",
      "39998          7360  \n",
      "\n",
      "[39999 rows x 212 columns]\n"
     ]
    }
   ],
   "source": [
    "print(filtered_data)"
   ]
  },
  {
   "cell_type": "code",
   "execution_count": 95,
   "metadata": {},
   "outputs": [
    {
     "name": "stdout",
     "output_type": "stream",
     "text": [
      "(39999, 14)\n"
     ]
    }
   ],
   "source": [
    "# Drop columns with all NaN values\n",
    "data = data.dropna(axis=1, how='all')\n",
    "\n",
    "# Alternatively, drop specific columns if they are always empty\n",
    "data = data.drop(columns=['Unnamed: 14', 'Unnamed: 15', 'Unnamed: 16', \n",
    "                          'Unnamed: 17', 'Unnamed: 18', 'Unnamed: 19',\n",
    "                          'Unnamed: 20', 'Unnamed: 21', 'Unnamed: 22'], errors='ignore')\n",
    "\n",
    "print(data.shape)  # Check if columns are removed\n"
   ]
  },
  {
   "cell_type": "code",
   "execution_count": 96,
   "metadata": {},
   "outputs": [
    {
     "name": "stdout",
     "output_type": "stream",
     "text": [
      "<class 'pandas.core.frame.DataFrame'>\n",
      "RangeIndex: 39999 entries, 0 to 39998\n",
      "Data columns (total 14 columns):\n",
      " #   Column            Non-Null Count  Dtype\n",
      "---  ------            --------------  -----\n",
      " 0   id                39999 non-null  int64\n",
      " 1   year              39999 non-null  int64\n",
      " 2   institute_type    39999 non-null  int64\n",
      " 3   round_no          39999 non-null  int64\n",
      " 4   quota             39999 non-null  int64\n",
      " 5   pool              39999 non-null  int64\n",
      " 6   institute_short   39999 non-null  int64\n",
      " 7   program_name      39999 non-null  int64\n",
      " 8   program_duration  39999 non-null  int64\n",
      " 9   degree_short      39999 non-null  int64\n",
      " 10  category          39999 non-null  int64\n",
      " 11  opening_rank      39999 non-null  int64\n",
      " 12  closing_rank      39999 non-null  int64\n",
      " 13  is_preparatory    39999 non-null  int64\n",
      "dtypes: int64(14)\n",
      "memory usage: 4.3 MB\n",
      "None\n"
     ]
    }
   ],
   "source": [
    "from sklearn.preprocessing import LabelEncoder\n",
    "\n",
    "# List of categorical columns to encode\n",
    "categorical_cols = ['quota', 'institute_type', 'institute_short', \n",
    "                    'pool', 'program_name', 'program_duration', \n",
    "                    'degree_short', 'category']\n",
    "\n",
    "# Apply Label Encoding\n",
    "label_encoder = LabelEncoder()\n",
    "for col in categorical_cols:\n",
    "    if col in data.columns:  # Ensure the column exists before encoding\n",
    "        data[col] = label_encoder.fit_transform(data[col])\n",
    "\n",
    "print(data.info())  # Check the updated data\n",
    "\n"
   ]
  },
  {
   "cell_type": "code",
   "execution_count": 97,
   "metadata": {},
   "outputs": [
    {
     "name": "stdout",
     "output_type": "stream",
     "text": [
      "<class 'pandas.core.frame.DataFrame'>\n",
      "RangeIndex: 39999 entries, 0 to 39998\n",
      "Data columns (total 14 columns):\n",
      " #   Column            Non-Null Count  Dtype\n",
      "---  ------            --------------  -----\n",
      " 0   id                39999 non-null  int64\n",
      " 1   year              39999 non-null  int64\n",
      " 2   institute_type    39999 non-null  int64\n",
      " 3   round_no          39999 non-null  int64\n",
      " 4   quota             39999 non-null  int64\n",
      " 5   pool              39999 non-null  int64\n",
      " 6   institute_short   39999 non-null  int64\n",
      " 7   program_name      39999 non-null  int64\n",
      " 8   program_duration  39999 non-null  int64\n",
      " 9   degree_short      39999 non-null  int64\n",
      " 10  category          39999 non-null  int64\n",
      " 11  opening_rank      39999 non-null  int64\n",
      " 12  closing_rank      39999 non-null  int64\n",
      " 13  is_preparatory    39999 non-null  int64\n",
      "dtypes: int64(14)\n",
      "memory usage: 4.3 MB\n"
     ]
    }
   ],
   "source": [
    "data.info()"
   ]
  },
  {
   "cell_type": "code",
   "execution_count": 98,
   "metadata": {},
   "outputs": [
    {
     "data": {
      "text/plain": [
       "(39999, 14)"
      ]
     },
     "execution_count": 98,
     "metadata": {},
     "output_type": "execute_result"
    }
   ],
   "source": [
    "data.shape"
   ]
  },
  {
   "cell_type": "code",
   "execution_count": 101,
   "metadata": {},
   "outputs": [
    {
     "name": "stdout",
     "output_type": "stream",
     "text": [
      "Index(['institute_type', 'quota', 'pool', 'institute_short', 'program_name',\n",
      "       'degree_short', 'category', 'program_duration', 'opening_rank',\n",
      "       'closing_rank'],\n",
      "      dtype='object')\n"
     ]
    }
   ],
   "source": [
    "# Sample DataFrame for illustration\n",
    "import pandas as pd\n",
    "\n",
    "filtered_data = pd.DataFrame({\n",
    "    'institute_type': ['Type1', 'Type2', 'Type1', 'Type3'],\n",
    "    'quota': ['Quota1', 'Quota2', 'Quota1', 'Quota3'],\n",
    "    'pool': ['Pool1', 'Pool2', 'Pool1', 'Pool3'],\n",
    "    'institute_short': ['Inst1', 'Inst2', 'Inst1', 'Inst3'],\n",
    "    'program_name': ['ProgramA', 'ProgramB', 'ProgramA', 'ProgramC'],\n",
    "    'degree_short': ['DegreeX', 'DegreeY', 'DegreeX', 'DegreeZ'],\n",
    "    'category': ['Category1', 'Category2', 'Category1', 'Category3'],\n",
    "    'program_duration': ['5 Years', '3 Years', '2 Years', '4 Years'],\n",
    "    'opening_rank': [100, 200, 150, 250],\n",
    "    'closing_rank': [110, 220, 160, 270]\n",
    "})\n",
    "\n",
    "# Check column names\n",
    "print(filtered_data.columns)\n",
    "\n",
    "# Define features and target after checking the columns\n",
    "X = filtered_data.drop(columns=['opening_rank', 'closing_rank'])\n",
    "y = filtered_data['closing_rank']\n",
    "\n"
   ]
  },
  {
   "cell_type": "code",
   "execution_count": 102,
   "metadata": {},
   "outputs": [
    {
     "data": {
      "text/html": [
       "<div>\n",
       "<style scoped>\n",
       "    .dataframe tbody tr th:only-of-type {\n",
       "        vertical-align: middle;\n",
       "    }\n",
       "\n",
       "    .dataframe tbody tr th {\n",
       "        vertical-align: top;\n",
       "    }\n",
       "\n",
       "    .dataframe thead th {\n",
       "        text-align: right;\n",
       "    }\n",
       "</style>\n",
       "<table border=\"1\" class=\"dataframe\">\n",
       "  <thead>\n",
       "    <tr style=\"text-align: right;\">\n",
       "      <th></th>\n",
       "      <th>id</th>\n",
       "      <th>year</th>\n",
       "      <th>institute_type</th>\n",
       "      <th>round_no</th>\n",
       "      <th>quota</th>\n",
       "      <th>pool</th>\n",
       "      <th>institute_short</th>\n",
       "      <th>program_name</th>\n",
       "      <th>program_duration</th>\n",
       "      <th>degree_short</th>\n",
       "      <th>category</th>\n",
       "      <th>opening_rank</th>\n",
       "      <th>closing_rank</th>\n",
       "      <th>is_preparatory</th>\n",
       "    </tr>\n",
       "  </thead>\n",
       "  <tbody>\n",
       "    <tr>\n",
       "      <th>0</th>\n",
       "      <td>1</td>\n",
       "      <td>2016</td>\n",
       "      <td>0</td>\n",
       "      <td>6</td>\n",
       "      <td>0</td>\n",
       "      <td>1</td>\n",
       "      <td>4</td>\n",
       "      <td>0</td>\n",
       "      <td>0</td>\n",
       "      <td>4</td>\n",
       "      <td>0</td>\n",
       "      <td>838</td>\n",
       "      <td>1841</td>\n",
       "      <td>0</td>\n",
       "    </tr>\n",
       "    <tr>\n",
       "      <th>1</th>\n",
       "      <td>2</td>\n",
       "      <td>2016</td>\n",
       "      <td>0</td>\n",
       "      <td>6</td>\n",
       "      <td>0</td>\n",
       "      <td>1</td>\n",
       "      <td>4</td>\n",
       "      <td>0</td>\n",
       "      <td>0</td>\n",
       "      <td>4</td>\n",
       "      <td>4</td>\n",
       "      <td>408</td>\n",
       "      <td>1098</td>\n",
       "      <td>0</td>\n",
       "    </tr>\n",
       "    <tr>\n",
       "      <th>2</th>\n",
       "      <td>3</td>\n",
       "      <td>2016</td>\n",
       "      <td>0</td>\n",
       "      <td>6</td>\n",
       "      <td>0</td>\n",
       "      <td>1</td>\n",
       "      <td>4</td>\n",
       "      <td>0</td>\n",
       "      <td>0</td>\n",
       "      <td>4</td>\n",
       "      <td>6</td>\n",
       "      <td>297</td>\n",
       "      <td>468</td>\n",
       "      <td>0</td>\n",
       "    </tr>\n",
       "    <tr>\n",
       "      <th>3</th>\n",
       "      <td>4</td>\n",
       "      <td>2016</td>\n",
       "      <td>0</td>\n",
       "      <td>6</td>\n",
       "      <td>0</td>\n",
       "      <td>1</td>\n",
       "      <td>4</td>\n",
       "      <td>0</td>\n",
       "      <td>0</td>\n",
       "      <td>4</td>\n",
       "      <td>8</td>\n",
       "      <td>79</td>\n",
       "      <td>145</td>\n",
       "      <td>0</td>\n",
       "    </tr>\n",
       "    <tr>\n",
       "      <th>4</th>\n",
       "      <td>5</td>\n",
       "      <td>2016</td>\n",
       "      <td>0</td>\n",
       "      <td>6</td>\n",
       "      <td>0</td>\n",
       "      <td>1</td>\n",
       "      <td>4</td>\n",
       "      <td>0</td>\n",
       "      <td>0</td>\n",
       "      <td>4</td>\n",
       "      <td>3</td>\n",
       "      <td>94</td>\n",
       "      <td>94</td>\n",
       "      <td>0</td>\n",
       "    </tr>\n",
       "  </tbody>\n",
       "</table>\n",
       "</div>"
      ],
      "text/plain": [
       "   id  year  institute_type  round_no  quota  pool  institute_short  \\\n",
       "0   1  2016               0         6      0     1                4   \n",
       "1   2  2016               0         6      0     1                4   \n",
       "2   3  2016               0         6      0     1                4   \n",
       "3   4  2016               0         6      0     1                4   \n",
       "4   5  2016               0         6      0     1                4   \n",
       "\n",
       "   program_name  program_duration  degree_short  category  opening_rank  \\\n",
       "0             0                 0             4         0           838   \n",
       "1             0                 0             4         4           408   \n",
       "2             0                 0             4         6           297   \n",
       "3             0                 0             4         8            79   \n",
       "4             0                 0             4         3            94   \n",
       "\n",
       "   closing_rank  is_preparatory  \n",
       "0          1841               0  \n",
       "1          1098               0  \n",
       "2           468               0  \n",
       "3           145               0  \n",
       "4            94               0  "
      ]
     },
     "execution_count": 102,
     "metadata": {},
     "output_type": "execute_result"
    }
   ],
   "source": [
    "if 'Type3' in data.columns:\n",
    "    # Convert 'Type3' column to float\n",
    "    data['Type3'] = data['Type3'].astype(float)\n",
    "\n",
    "# Display the first few rows to verify the change\n",
    "data.head()"
   ]
  },
  {
   "cell_type": "code",
   "execution_count": 103,
   "metadata": {},
   "outputs": [],
   "source": [
    "if 'Type3' in data.columns:\n",
    "    # Convert 'Type3' column to float\n",
    "    data['Type3'] = data['Type3'].astype(float)\n",
    "\n",
    "# Assuming 'Type3' is part of your feature set, create X_train and y_train\n",
    "# Example of splitting data into features (X) and target (y)\n",
    "X = data.drop(columns=['closing_rank'])  # Assuming 'closing_rank' is the target variable\n",
    "y = data['closing_rank']  # Target variable\n",
    "\n",
    "# Split into training and testing sets (usually 80-20 split)\n",
    "from sklearn.model_selection import train_test_split\n",
    "X_train, X_test, y_train, y_test = train_test_split(X, y, test_size=0.2, random_state=42)\n"
   ]
  },
  {
   "cell_type": "code",
   "execution_count": 104,
   "metadata": {},
   "outputs": [
    {
     "name": "stdout",
     "output_type": "stream",
     "text": [
      "Training Data MSE: 17796944.28681754\n"
     ]
    }
   ],
   "source": [
    "from sklearn.metrics import mean_squared_error\n",
    "from sklearn.ensemble import RandomForestRegressor\n",
    "\n",
    "# Initialize the model for regression\n",
    "model = RandomForestRegressor(random_state=42)\n",
    "\n",
    "# Fit the model\n",
    "model.fit(X_train, y_train)\n",
    "\n",
    "# Get predictions\n",
    "x_train_prediction = model.predict(X_train)\n",
    "\n",
    "# Assuming y_train is already defined\n",
    "training_data_mse = mean_squared_error(y_train, x_train_prediction)\n",
    "print(f\"Training Data MSE: {training_data_mse}\")\n"
   ]
  },
  {
   "cell_type": "code",
   "execution_count": 105,
   "metadata": {},
   "outputs": [
    {
     "name": "stdout",
     "output_type": "stream",
     "text": [
      "Testing Data MSE: 71498738.2876131\n"
     ]
    }
   ],
   "source": [
    "y_pred = model.predict(X_test)\n",
    "\n",
    "# Assuming y_train is already defined\n",
    "testing_data_mse = mean_squared_error(y_test, y_pred)\n",
    "print(f\"Testing Data MSE: {testing_data_mse}\")"
   ]
  },
  {
   "cell_type": "code",
   "execution_count": 106,
   "metadata": {},
   "outputs": [
    {
     "name": "stdout",
     "output_type": "stream",
     "text": [
      "Mean Absolute Error: 916.4147487500001\n",
      "Mean Squared Error: 71498738.2876131\n",
      "Root Mean Squared Error: 8455.69265569729\n"
     ]
    }
   ],
   "source": [
    "# Evaluate the model\n",
    "mae = mean_absolute_error(y_test, y_pred)\n",
    "mse = mean_squared_error(y_test, y_pred)\n",
    "rmse = np.sqrt(mse)\n",
    "\n",
    "print(f\"Mean Absolute Error: {mae}\")\n",
    "print(f\"Mean Squared Error: {mse}\")\n",
    "print(f\"Root Mean Squared Error: {rmse}\")\n"
   ]
  },
  {
   "cell_type": "code",
   "execution_count": 109,
   "metadata": {},
   "outputs": [],
   "source": [
    "from sklearn.datasets import make_regression\n",
    "from sklearn.linear_model import LinearRegression, Ridge, Lasso, ElasticNet\n",
    "from sklearn.svm import SVR\n",
    "from sklearn.tree import DecisionTreeRegressor\n",
    "from sklearn.ensemble import RandomForestRegressor, GradientBoostingRegressor\n",
    "from sklearn.neighbors import KNeighborsRegressor\n",
    "from sklearn.neural_network import MLPRegressor\n",
    "from sklearn.metrics import mean_squared_error, r2_score"
   ]
  },
  {
   "cell_type": "code",
   "execution_count": 110,
   "metadata": {},
   "outputs": [
    {
     "name": "stdout",
     "output_type": "stream",
     "text": [
      "----- Linear Regression -----\n",
      "Mean Squared Error (MSE): 71498738.2876131\n",
      "R-squared: 0.8667134837640711\n",
      "\n",
      "----- Ridge Regression -----\n",
      "Mean Squared Error (MSE): 71498738.2876131\n",
      "R-squared: 0.8667134837640711\n",
      "\n",
      "----- Lasso Regression -----\n",
      "Mean Squared Error (MSE): 71498738.2876131\n",
      "R-squared: 0.8667134837640711\n",
      "\n",
      "----- ElasticNet Regression -----\n",
      "Mean Squared Error (MSE): 71498738.2876131\n",
      "R-squared: 0.8667134837640711\n",
      "\n",
      "----- Support Vector Regression (SVR) -----\n",
      "Mean Squared Error (MSE): 71498738.2876131\n",
      "R-squared: 0.8667134837640711\n",
      "\n",
      "----- Decision Tree Regression -----\n",
      "Mean Squared Error (MSE): 71498738.2876131\n",
      "R-squared: 0.8667134837640711\n",
      "\n",
      "----- Random Forest Regression -----\n",
      "Mean Squared Error (MSE): 71498738.2876131\n",
      "R-squared: 0.8667134837640711\n",
      "\n",
      "----- Gradient Boosting Regression -----\n",
      "Mean Squared Error (MSE): 71498738.2876131\n",
      "R-squared: 0.8667134837640711\n",
      "\n",
      "----- K-Nearest Neighbors Regression -----\n",
      "Mean Squared Error (MSE): 71498738.2876131\n",
      "R-squared: 0.8667134837640711\n",
      "\n",
      "----- Neural Network Regression (MLP) -----\n",
      "Mean Squared Error (MSE): 71498738.2876131\n",
      "R-squared: 0.8667134837640711\n",
      "\n",
      "                             Model           MSE  R-squared\n",
      "0                Linear Regression  7.149874e+07   0.866713\n",
      "1                 Ridge Regression  7.149874e+07   0.866713\n",
      "2                 Lasso Regression  7.149874e+07   0.866713\n",
      "3            ElasticNet Regression  7.149874e+07   0.866713\n",
      "4  Support Vector Regression (SVR)  7.149874e+07   0.866713\n",
      "5         Decision Tree Regression  7.149874e+07   0.866713\n",
      "6         Random Forest Regression  7.149874e+07   0.866713\n",
      "7     Gradient Boosting Regression  7.149874e+07   0.866713\n",
      "8   K-Nearest Neighbors Regression  7.149874e+07   0.866713\n",
      "9  Neural Network Regression (MLP)  7.149874e+07   0.866713\n"
     ]
    },
    {
     "data": {
      "image/png": "[encoded data removed]",
      "text/plain": [
       "<Figure size 1200x600 with 1 Axes>"
      ]
     },
     "metadata": {},
     "output_type": "display_data"
    }
   ],
   "source": [
    "\n",
    "#Define Models and Perform Training and Evaluation\n",
    "models = {\n",
    "    'Linear Regression': LinearRegression(),\n",
    "    'Ridge Regression': Ridge(alpha=1.0),\n",
    "    'Lasso Regression': Lasso(alpha=1.0),\n",
    "    'ElasticNet Regression': ElasticNet(alpha=1.0, l1_ratio=0.5),\n",
    "    'Support Vector Regression (SVR)': SVR(kernel='rbf'),\n",
    "    'Decision Tree Regression': DecisionTreeRegressor(),\n",
    "    'Random Forest Regression': RandomForestRegressor(n_estimators=100),\n",
    "    'Gradient Boosting Regression': GradientBoostingRegressor(n_estimators=100, learning_rate=0.1),\n",
    "    'K-Nearest Neighbors Regression': KNeighborsRegressor(n_neighbors=5),\n",
    "    'Neural Network Regression (MLP)': MLPRegressor(hidden_layer_sizes=(100, 50), activation='relu', solver='adam')\n",
    "}\n",
    "\n",
    "# Train and evaluate each model\n",
    "results = {'Model': [], 'MSE': [], 'R-squared': []}\n",
    "\n",
    "for name, model in models.items():\n",
    "    # Train the model\n",
    "    model.fit(X_train, y_train)\n",
    "\n",
    "    # Predict on test set\n",
    "    Y_pred = model.predict(X_test)\n",
    "\n",
    "    # Evaluate model\n",
    "    mse = mean_squared_error(y_test, y_pred)\n",
    "    r2 = r2_score(y_test, y_pred)\n",
    "\n",
    "    # Store results\n",
    "    results['Model'].append(name)\n",
    "    results['MSE'].append(mse)\n",
    "    results['R-squared'].append(r2)\n",
    "\n",
    "    # Print results\n",
    "    print(f\"----- {name} -----\")\n",
    "    print(f\"Mean Squared Error (MSE): {mse}\")\n",
    "    print(f\"R-squared: {r2}\")\n",
    "    print()\n",
    "\n",
    "# Convert results to DataFrame for visualization\n",
    "results_df = pd.DataFrame(results)\n",
    "print(results_df)\n",
    "\n",
    "# Plotting the results\n",
    "plt.figure(figsize=(12, 6))\n",
    "plt.barh(results_df['Model'], results_df['R-squared'], color='skyblue')\n",
    "plt.xlabel('R-squared')\n",
    "plt.title('R-squared of Different Regression Models')\n",
    "plt.xlim(-1, 1)\n",
    "plt.gca().invert_yaxis()\n",
    "plt.show()"
   ]
  },
  {
   "cell_type": "code",
   "execution_count": 107,
   "metadata": {},
   "outputs": [
    {
     "data": {
      "image/png": "[encoded data removed]",
      "text/plain": [
       "<Figure size 800x600 with 1 Axes>"
      ]
     },
     "metadata": {},
     "output_type": "display_data"
    }
   ],
   "source": [
    "plt.figure(figsize=(8, 6))\n",
    "sns.scatterplot(x=y_test, y=y_pred)\n",
    "plt.xlabel(\"Actual Closing Ranks\")\n",
    "plt.ylabel(\"Predicted Closing Ranks\")\n",
    "plt.title(\"Actual vs Predicted Closing Ranks\")\n",
    "plt.show()"
   ]
  },
  {
   "cell_type": "code",
   "execution_count": 108,
   "metadata": {},
   "outputs": [
    {
     "data": {
      "image/png": "[encoded data removed]",
      "text/plain": [
       "<Figure size 1200x600 with 1 Axes>"
      ]
     },
     "metadata": {},
     "output_type": "display_data"
    }
   ],
   "source": [
    "importances = model.feature_importances_\n",
    "feature_names = X.columns\n",
    "plt.figure(figsize=(12, 6))\n",
    "sns.barplot(x=importances, y=feature_names)\n",
    "plt.title(\"Feature Importance\")\n",
    "plt.show()"
   ]
  }
 ],
 "metadata": {
  "kernelspec": {
   "display_name": "Python 3",
   "language": "python",
   "name": "python3"
  },
  "language_info": {
   "codemirror_mode": {
    "name": "ipython",
    "version": 3
   },
   "file_extension": ".py",
   "mimetype": "text/x-python",
   "name": "python",
   "nbconvert_exporter": "python",
   "pygments_lexer": "ipython3",
   "version": "3.13.1"
  }
 },
 "nbformat": 4,
 "nbformat_minor": 2
}
