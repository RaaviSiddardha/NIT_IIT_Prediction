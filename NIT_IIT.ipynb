{
 "cells": [
  {
   "cell_type": "code",
   "execution_count": 1,
   "metadata": {},
   "outputs": [
    {
     "name": "stdout",
     "output_type": "stream",
     "text": [
      "Requirement already satisfied: scikit-learn in c:\\users\\siddu\\appdata\\local\\programs\\python\\python313\\lib\\site-packages (1.6.0)Note: you may need to restart the kernel to use updated packages.\n",
      "\n",
      "Requirement already satisfied: numpy>=1.19.5 in c:\\users\\siddu\\appdata\\local\\programs\\python\\python313\\lib\\site-packages (from scikit-learn) (2.2.0)\n",
      "Requirement already satisfied: scipy>=1.6.0 in c:\\users\\siddu\\appdata\\local\\programs\\python\\python313\\lib\\site-packages (from scikit-learn) (1.14.1)\n",
      "Requirement already satisfied: joblib>=1.2.0 in c:\\users\\siddu\\appdata\\local\\programs\\python\\python313\\lib\\site-packages (from scikit-learn) (1.4.2)\n",
      "Requirement already satisfied: threadpoolctl>=3.1.0 in c:\\users\\siddu\\appdata\\local\\programs\\python\\python313\\lib\\site-packages (from scikit-learn) (3.5.0)\n"
     ]
    }
   ],
   "source": [
    "pip install scikit-learn\n"
   ]
  },
  {
   "cell_type": "code",
   "execution_count": 2,
   "metadata": {},
   "outputs": [],
   "source": [
    "import pandas as pd\n",
    "import numpy as np\n",
    "from sklearn.model_selection import train_test_split\n",
    "from sklearn.ensemble import RandomForestRegressor\n",
    "from sklearn.metrics import mean_absolute_error, mean_squared_error\n",
    "from sklearn.preprocessing import OneHotEncoder,LabelEncoder,StandardScaler\n",
    "import matplotlib.pyplot as plt\n",
    "import seaborn as sns\n"
   ]
  },
  {
   "cell_type": "code",
   "execution_count": 3,
   "metadata": {},
   "outputs": [
    {
     "data": {
      "text/html": [
       "<div>\n",
       "<style scoped>\n",
       "    .dataframe tbody tr th:only-of-type {\n",
       "        vertical-align: middle;\n",
       "    }\n",
       "\n",
       "    .dataframe tbody tr th {\n",
       "        vertical-align: top;\n",
       "    }\n",
       "\n",
       "    .dataframe thead th {\n",
       "        text-align: right;\n",
       "    }\n",
       "</style>\n",
       "<table border=\"1\" class=\"dataframe\">\n",
       "  <thead>\n",
       "    <tr style=\"text-align: right;\">\n",
       "      <th></th>\n",
       "      <th>id</th>\n",
       "      <th>year</th>\n",
       "      <th>institute_type</th>\n",
       "      <th>round_no</th>\n",
       "      <th>quota</th>\n",
       "      <th>pool</th>\n",
       "      <th>institute_short</th>\n",
       "      <th>program_name</th>\n",
       "      <th>program_duration</th>\n",
       "      <th>degree_short</th>\n",
       "      <th>category</th>\n",
       "      <th>opening_rank</th>\n",
       "      <th>closing_rank</th>\n",
       "      <th>is_preparatory</th>\n",
       "    </tr>\n",
       "  </thead>\n",
       "  <tbody>\n",
       "    <tr>\n",
       "      <th>0</th>\n",
       "      <td>29622</td>\n",
       "      <td>2021</td>\n",
       "      <td>NIT</td>\n",
       "      <td>1</td>\n",
       "      <td>HS</td>\n",
       "      <td>Gender-Neutral</td>\n",
       "      <td>NIT-Puducherry</td>\n",
       "      <td>Electrical and Electronics Engineering</td>\n",
       "      <td>4 Years</td>\n",
       "      <td>B.Tech</td>\n",
       "      <td>SC</td>\n",
       "      <td>10799</td>\n",
       "      <td>17190</td>\n",
       "      <td>0</td>\n",
       "    </tr>\n",
       "    <tr>\n",
       "      <th>1</th>\n",
       "      <td>11674</td>\n",
       "      <td>2021</td>\n",
       "      <td>IIT</td>\n",
       "      <td>1</td>\n",
       "      <td>AI</td>\n",
       "      <td>Gender-Neutral</td>\n",
       "      <td>IIT-(BHU) Varanasi</td>\n",
       "      <td>Industrial Chemistry</td>\n",
       "      <td>5 Years</td>\n",
       "      <td>B.Tech + M.Tech (IDD)</td>\n",
       "      <td>SC</td>\n",
       "      <td>2529</td>\n",
       "      <td>2757</td>\n",
       "      <td>0</td>\n",
       "    </tr>\n",
       "    <tr>\n",
       "      <th>2</th>\n",
       "      <td>29411</td>\n",
       "      <td>2021</td>\n",
       "      <td>NIT</td>\n",
       "      <td>1</td>\n",
       "      <td>OS</td>\n",
       "      <td>Gender-Neutral</td>\n",
       "      <td>NIT-Nagaland</td>\n",
       "      <td>Electronics and Communication Engineering</td>\n",
       "      <td>4 Years</td>\n",
       "      <td>B.Tech</td>\n",
       "      <td>GEN</td>\n",
       "      <td>24910</td>\n",
       "      <td>32918</td>\n",
       "      <td>0</td>\n",
       "    </tr>\n",
       "    <tr>\n",
       "      <th>3</th>\n",
       "      <td>21537</td>\n",
       "      <td>2019</td>\n",
       "      <td>NIT</td>\n",
       "      <td>7</td>\n",
       "      <td>HS</td>\n",
       "      <td>Female-Only</td>\n",
       "      <td>NIT-Uttarakhand</td>\n",
       "      <td>Electrical and Electronics Engineering</td>\n",
       "      <td>4 Years</td>\n",
       "      <td>B.Tech</td>\n",
       "      <td>GEN</td>\n",
       "      <td>41703</td>\n",
       "      <td>41703</td>\n",
       "      <td>0</td>\n",
       "    </tr>\n",
       "    <tr>\n",
       "      <th>4</th>\n",
       "      <td>27836</td>\n",
       "      <td>2021</td>\n",
       "      <td>NIT</td>\n",
       "      <td>1</td>\n",
       "      <td>HS</td>\n",
       "      <td>Female-Only</td>\n",
       "      <td>NIT-Allahabad</td>\n",
       "      <td>Chemical Engineering</td>\n",
       "      <td>4 Years</td>\n",
       "      <td>B.Tech</td>\n",
       "      <td>GEN</td>\n",
       "      <td>22629</td>\n",
       "      <td>22723</td>\n",
       "      <td>0</td>\n",
       "    </tr>\n",
       "  </tbody>\n",
       "</table>\n",
       "</div>"
      ],
      "text/plain": [
       "      id  year institute_type  round_no quota            pool  \\\n",
       "0  29622  2021            NIT         1    HS  Gender-Neutral   \n",
       "1  11674  2021            IIT         1    AI  Gender-Neutral   \n",
       "2  29411  2021            NIT         1    OS  Gender-Neutral   \n",
       "3  21537  2019            NIT         7    HS     Female-Only   \n",
       "4  27836  2021            NIT         1    HS     Female-Only   \n",
       "\n",
       "      institute_short                               program_name  \\\n",
       "0      NIT-Puducherry     Electrical and Electronics Engineering   \n",
       "1  IIT-(BHU) Varanasi                       Industrial Chemistry   \n",
       "2        NIT-Nagaland  Electronics and Communication Engineering   \n",
       "3     NIT-Uttarakhand     Electrical and Electronics Engineering   \n",
       "4       NIT-Allahabad                       Chemical Engineering   \n",
       "\n",
       "  program_duration           degree_short category  opening_rank  \\\n",
       "0          4 Years                 B.Tech       SC         10799   \n",
       "1          5 Years  B.Tech + M.Tech (IDD)       SC          2529   \n",
       "2          4 Years                 B.Tech      GEN         24910   \n",
       "3          4 Years                 B.Tech      GEN         41703   \n",
       "4          4 Years                 B.Tech      GEN         22629   \n",
       "\n",
       "   closing_rank  is_preparatory  \n",
       "0         17190               0  \n",
       "1          2757               0  \n",
       "2         32918               0  \n",
       "3         41703               0  \n",
       "4         22723               0  "
      ]
     },
     "execution_count": 3,
     "metadata": {},
     "output_type": "execute_result"
    }
   ],
   "source": [
    "data=pd.read_csv(r\"C:\\Users\\siddu\\Downloads\\reduced_data.csv\")\n",
    "data.head()"
   ]
  },
  {
   "cell_type": "code",
   "execution_count": 4,
   "metadata": {},
   "outputs": [
    {
     "name": "stdout",
     "output_type": "stream",
     "text": [
      "<class 'pandas.core.frame.DataFrame'>\n",
      "RangeIndex: 9999 entries, 0 to 9998\n",
      "Data columns (total 14 columns):\n",
      " #   Column            Non-Null Count  Dtype \n",
      "---  ------            --------------  ----- \n",
      " 0   id                9999 non-null   int64 \n",
      " 1   year              9999 non-null   int64 \n",
      " 2   institute_type    9999 non-null   object\n",
      " 3   round_no          9999 non-null   int64 \n",
      " 4   quota             9999 non-null   object\n",
      " 5   pool              9999 non-null   object\n",
      " 6   institute_short   9999 non-null   object\n",
      " 7   program_name      9999 non-null   object\n",
      " 8   program_duration  9999 non-null   object\n",
      " 9   degree_short      9999 non-null   object\n",
      " 10  category          9999 non-null   object\n",
      " 11  opening_rank      9999 non-null   int64 \n",
      " 12  closing_rank      9999 non-null   int64 \n",
      " 13  is_preparatory    9999 non-null   int64 \n",
      "dtypes: int64(6), object(8)\n",
      "memory usage: 1.1+ MB\n"
     ]
    }
   ],
   "source": [
    "data.info()"
   ]
  },
  {
   "cell_type": "code",
   "execution_count": 5,
   "metadata": {},
   "outputs": [],
   "source": [
    "filtered_data = data[data['institute_type'].isin(['IIT', 'NIT'])]"
   ]
  },
  {
   "cell_type": "code",
   "execution_count": 6,
   "metadata": {},
   "outputs": [],
   "source": [
    "filtered_data = filtered_data.drop(columns=['id'])"
   ]
  },
  {
   "cell_type": "code",
   "execution_count": 7,
   "metadata": {},
   "outputs": [
    {
     "name": "stdout",
     "output_type": "stream",
     "text": [
      "year                0\n",
      "institute_type      0\n",
      "round_no            0\n",
      "quota               0\n",
      "pool                0\n",
      "institute_short     0\n",
      "program_name        0\n",
      "program_duration    0\n",
      "degree_short        0\n",
      "category            0\n",
      "opening_rank        0\n",
      "closing_rank        0\n",
      "is_preparatory      0\n",
      "dtype: int64\n"
     ]
    }
   ],
   "source": [
    "print(filtered_data.isnull().sum())"
   ]
  },
  {
   "cell_type": "code",
   "execution_count": 8,
   "metadata": {},
   "outputs": [],
   "source": [
    "filtered_data = filtered_data.dropna()"
   ]
  },
  {
   "cell_type": "code",
   "execution_count": 9,
   "metadata": {},
   "outputs": [
    {
     "name": "stdout",
     "output_type": "stream",
     "text": [
      "<class 'pandas.core.frame.DataFrame'>\n",
      "RangeIndex: 9999 entries, 0 to 9998\n",
      "Data columns (total 13 columns):\n",
      " #   Column            Non-Null Count  Dtype \n",
      "---  ------            --------------  ----- \n",
      " 0   year              9999 non-null   int64 \n",
      " 1   institute_type    9999 non-null   object\n",
      " 2   round_no          9999 non-null   int64 \n",
      " 3   quota             9999 non-null   object\n",
      " 4   pool              9999 non-null   object\n",
      " 5   institute_short   9999 non-null   object\n",
      " 6   program_name      9999 non-null   object\n",
      " 7   program_duration  9999 non-null   object\n",
      " 8   degree_short      9999 non-null   object\n",
      " 9   category          9999 non-null   object\n",
      " 10  opening_rank      9999 non-null   int64 \n",
      " 11  closing_rank      9999 non-null   int64 \n",
      " 12  is_preparatory    9999 non-null   int64 \n",
      "dtypes: int64(5), object(8)\n",
      "memory usage: 1015.7+ KB\n"
     ]
    }
   ],
   "source": [
    "filtered_data.info()"
   ]
  },
  {
   "cell_type": "code",
   "execution_count": 10,
   "metadata": {},
   "outputs": [],
   "source": [
    "categorical_cols = ['institute_type', 'quota', 'pool', 'institute_short', 'program_name', 'degree_short', 'category']\n",
    "numerical_cols = ['year', 'round_no', 'program_duration']"
   ]
  },
  {
   "cell_type": "code",
   "execution_count": 11,
   "metadata": {},
   "outputs": [],
   "source": [
    "encoder = OneHotEncoder(drop='first')\n",
    "\n",
    "# Apply the encoder to the categorical columns\n",
    "encoded_features = encoder.fit_transform(filtered_data[categorical_cols])\n",
    "\n",
    "# Convert the sparse matrix to a DataFrame if necessary\n",
    "encoded_features_df = pd.DataFrame(encoded_features.toarray(), columns=encoder.get_feature_names_out(categorical_cols))\n",
    "\n",
    "# Add encoded features to the data\n",
    "filtered_data = pd.concat([filtered_data[numerical_cols], encoded_features_df, filtered_data[['opening_rank', 'closing_rank']]], axis=1)\n",
    "\n",
    "\n"
   ]
  },
  {
   "cell_type": "code",
   "execution_count": 12,
   "metadata": {},
   "outputs": [],
   "source": [
    "label_encoder = LabelEncoder()\n",
    "data['quota'] = label_encoder.fit_transform(data['quota'])\n",
    "data['institute_type' ] = label_encoder.fit_transform(data['institute_type' ])\n",
    "data['institute_short' ] = label_encoder.fit_transform(data['institute_short'])\n",
    "data['pool' ] = label_encoder.fit_transform(data['pool'])\n",
    "data[ 'program_name'] = label_encoder.fit_transform(data[ 'program_name'])\n",
    "data['program_duration'] = label_encoder.fit_transform(data['program_duration'])\n",
    "data[ 'degree_short'] = label_encoder.fit_transform(data ['degree_short'])\n",
    "data['category'] = label_encoder.fit_transform(data ['category'])\n"
   ]
  },
  {
   "cell_type": "code",
   "execution_count": 13,
   "metadata": {},
   "outputs": [
    {
     "name": "stdout",
     "output_type": "stream",
     "text": [
      "<class 'pandas.core.frame.DataFrame'>\n",
      "RangeIndex: 9999 entries, 0 to 9998\n",
      "Data columns (total 14 columns):\n",
      " #   Column            Non-Null Count  Dtype\n",
      "---  ------            --------------  -----\n",
      " 0   id                9999 non-null   int64\n",
      " 1   year              9999 non-null   int64\n",
      " 2   institute_type    9999 non-null   int64\n",
      " 3   round_no          9999 non-null   int64\n",
      " 4   quota             9999 non-null   int64\n",
      " 5   pool              9999 non-null   int64\n",
      " 6   institute_short   9999 non-null   int64\n",
      " 7   program_name      9999 non-null   int64\n",
      " 8   program_duration  9999 non-null   int64\n",
      " 9   degree_short      9999 non-null   int64\n",
      " 10  category          9999 non-null   int64\n",
      " 11  opening_rank      9999 non-null   int64\n",
      " 12  closing_rank      9999 non-null   int64\n",
      " 13  is_preparatory    9999 non-null   int64\n",
      "dtypes: int64(14)\n",
      "memory usage: 1.1 MB\n"
     ]
    }
   ],
   "source": [
    "data.info()"
   ]
  },
  {
   "cell_type": "code",
   "execution_count": 22,
   "metadata": {},
   "outputs": [
    {
     "data": {
      "text/plain": [
       "(9999, 14)"
      ]
     },
     "execution_count": 22,
     "metadata": {},
     "output_type": "execute_result"
    }
   ],
   "source": [
    "data.shape"
   ]
  },
  {
   "cell_type": "code",
   "execution_count": 14,
   "metadata": {},
   "outputs": [
    {
     "name": "stdout",
     "output_type": "stream",
     "text": [
      "Index(['institute_type', 'quota', 'pool', 'institute_short', 'program_name',\n",
      "       'degree_short', 'category', 'program_duration', 'opening_rank',\n",
      "       'closing_rank'],\n",
      "      dtype='object')\n"
     ]
    }
   ],
   "source": [
    "# Sample DataFrame for illustration\n",
    "import pandas as pd\n",
    "\n",
    "filtered_data = pd.DataFrame({\n",
    "    'institute_type': ['Type1', 'Type2', 'Type1', 'Type3'],\n",
    "    'quota': ['Quota1', 'Quota2', 'Quota1', 'Quota3'],\n",
    "    'pool': ['Pool1', 'Pool2', 'Pool1', 'Pool3'],\n",
    "    'institute_short': ['Inst1', 'Inst2', 'Inst1', 'Inst3'],\n",
    "    'program_name': ['ProgramA', 'ProgramB', 'ProgramA', 'ProgramC'],\n",
    "    'degree_short': ['DegreeX', 'DegreeY', 'DegreeX', 'DegreeZ'],\n",
    "    'category': ['Category1', 'Category2', 'Category1', 'Category3'],\n",
    "    'program_duration': ['5 Years', '3 Years', '2 Years', '4 Years'],\n",
    "    'opening_rank': [100, 200, 150, 250],\n",
    "    'closing_rank': [110, 220, 160, 270]\n",
    "})\n",
    "\n",
    "# Check column names\n",
    "print(filtered_data.columns)\n",
    "\n",
    "# Define features and target after checking the columns\n",
    "X = filtered_data.drop(columns=['opening_rank', 'closing_rank'])\n",
    "y = filtered_data['closing_rank']\n",
    "\n"
   ]
  },
  {
   "cell_type": "code",
   "execution_count": 15,
   "metadata": {},
   "outputs": [
    {
     "data": {
      "text/html": [
       "<div>\n",
       "<style scoped>\n",
       "    .dataframe tbody tr th:only-of-type {\n",
       "        vertical-align: middle;\n",
       "    }\n",
       "\n",
       "    .dataframe tbody tr th {\n",
       "        vertical-align: top;\n",
       "    }\n",
       "\n",
       "    .dataframe thead th {\n",
       "        text-align: right;\n",
       "    }\n",
       "</style>\n",
       "<table border=\"1\" class=\"dataframe\">\n",
       "  <thead>\n",
       "    <tr style=\"text-align: right;\">\n",
       "      <th></th>\n",
       "      <th>id</th>\n",
       "      <th>year</th>\n",
       "      <th>institute_type</th>\n",
       "      <th>round_no</th>\n",
       "      <th>quota</th>\n",
       "      <th>pool</th>\n",
       "      <th>institute_short</th>\n",
       "      <th>program_name</th>\n",
       "      <th>program_duration</th>\n",
       "      <th>degree_short</th>\n",
       "      <th>category</th>\n",
       "      <th>opening_rank</th>\n",
       "      <th>closing_rank</th>\n",
       "      <th>is_preparatory</th>\n",
       "    </tr>\n",
       "  </thead>\n",
       "  <tbody>\n",
       "    <tr>\n",
       "      <th>0</th>\n",
       "      <td>29622</td>\n",
       "      <td>2021</td>\n",
       "      <td>1</td>\n",
       "      <td>1</td>\n",
       "      <td>3</td>\n",
       "      <td>1</td>\n",
       "      <td>44</td>\n",
       "      <td>52</td>\n",
       "      <td>0</td>\n",
       "      <td>3</td>\n",
       "      <td>6</td>\n",
       "      <td>10799</td>\n",
       "      <td>17190</td>\n",
       "      <td>0</td>\n",
       "    </tr>\n",
       "    <tr>\n",
       "      <th>1</th>\n",
       "      <td>11674</td>\n",
       "      <td>2021</td>\n",
       "      <td>0</td>\n",
       "      <td>1</td>\n",
       "      <td>0</td>\n",
       "      <td>1</td>\n",
       "      <td>0</td>\n",
       "      <td>72</td>\n",
       "      <td>1</td>\n",
       "      <td>4</td>\n",
       "      <td>6</td>\n",
       "      <td>2529</td>\n",
       "      <td>2757</td>\n",
       "      <td>0</td>\n",
       "    </tr>\n",
       "    <tr>\n",
       "      <th>2</th>\n",
       "      <td>29411</td>\n",
       "      <td>2021</td>\n",
       "      <td>1</td>\n",
       "      <td>1</td>\n",
       "      <td>6</td>\n",
       "      <td>1</td>\n",
       "      <td>41</td>\n",
       "      <td>54</td>\n",
       "      <td>0</td>\n",
       "      <td>3</td>\n",
       "      <td>0</td>\n",
       "      <td>24910</td>\n",
       "      <td>32918</td>\n",
       "      <td>0</td>\n",
       "    </tr>\n",
       "    <tr>\n",
       "      <th>3</th>\n",
       "      <td>21537</td>\n",
       "      <td>2019</td>\n",
       "      <td>1</td>\n",
       "      <td>7</td>\n",
       "      <td>3</td>\n",
       "      <td>0</td>\n",
       "      <td>52</td>\n",
       "      <td>52</td>\n",
       "      <td>0</td>\n",
       "      <td>3</td>\n",
       "      <td>0</td>\n",
       "      <td>41703</td>\n",
       "      <td>41703</td>\n",
       "      <td>0</td>\n",
       "    </tr>\n",
       "    <tr>\n",
       "      <th>4</th>\n",
       "      <td>27836</td>\n",
       "      <td>2021</td>\n",
       "      <td>1</td>\n",
       "      <td>1</td>\n",
       "      <td>3</td>\n",
       "      <td>0</td>\n",
       "      <td>24</td>\n",
       "      <td>26</td>\n",
       "      <td>0</td>\n",
       "      <td>3</td>\n",
       "      <td>0</td>\n",
       "      <td>22629</td>\n",
       "      <td>22723</td>\n",
       "      <td>0</td>\n",
       "    </tr>\n",
       "  </tbody>\n",
       "</table>\n",
       "</div>"
      ],
      "text/plain": [
       "      id  year  institute_type  round_no  quota  pool  institute_short  \\\n",
       "0  29622  2021               1         1      3     1               44   \n",
       "1  11674  2021               0         1      0     1                0   \n",
       "2  29411  2021               1         1      6     1               41   \n",
       "3  21537  2019               1         7      3     0               52   \n",
       "4  27836  2021               1         1      3     0               24   \n",
       "\n",
       "   program_name  program_duration  degree_short  category  opening_rank  \\\n",
       "0            52                 0             3         6         10799   \n",
       "1            72                 1             4         6          2529   \n",
       "2            54                 0             3         0         24910   \n",
       "3            52                 0             3         0         41703   \n",
       "4            26                 0             3         0         22629   \n",
       "\n",
       "   closing_rank  is_preparatory  \n",
       "0         17190               0  \n",
       "1          2757               0  \n",
       "2         32918               0  \n",
       "3         41703               0  \n",
       "4         22723               0  "
      ]
     },
     "execution_count": 15,
     "metadata": {},
     "output_type": "execute_result"
    }
   ],
   "source": [
    "if 'Type3' in data.columns:\n",
    "    # Convert 'Type3' column to float\n",
    "    data['Type3'] = data['Type3'].astype(float)\n",
    "\n",
    "# Display the first few rows to verify the change\n",
    "data.head()"
   ]
  },
  {
   "cell_type": "code",
   "execution_count": 16,
   "metadata": {},
   "outputs": [],
   "source": [
    "if 'Type3' in data.columns:\n",
    "    # Convert 'Type3' column to float\n",
    "    data['Type3'] = data['Type3'].astype(float)\n",
    "\n",
    "# Assuming 'Type3' is part of your feature set, create X_train and y_train\n",
    "# Example of splitting data into features (X) and target (y)\n",
    "X = data.drop(columns=['closing_rank'])  # Assuming 'closing_rank' is the target variable\n",
    "y = data['closing_rank']  # Target variable\n",
    "\n",
    "# Split into training and testing sets (usually 80-20 split)\n",
    "from sklearn.model_selection import train_test_split\n",
    "X_train, X_test, y_train, y_test = train_test_split(X, y, test_size=0.2, random_state=42)\n"
   ]
  },
  {
   "cell_type": "code",
   "execution_count": 17,
   "metadata": {},
   "outputs": [
    {
     "name": "stdout",
     "output_type": "stream",
     "text": [
      "Training Data MSE: 16026880.026904235\n"
     ]
    }
   ],
   "source": [
    "from sklearn.metrics import mean_squared_error\n",
    "from sklearn.ensemble import RandomForestRegressor\n",
    "\n",
    "# Initialize the model for regression\n",
    "model = RandomForestRegressor(random_state=42)\n",
    "\n",
    "# Fit the model\n",
    "model.fit(X_train, y_train)\n",
    "\n",
    "# Get predictions\n",
    "x_train_prediction = model.predict(X_train)\n",
    "\n",
    "# Assuming y_train is already defined\n",
    "training_data_mse = mean_squared_error(y_train, x_train_prediction)\n",
    "print(f\"Training Data MSE: {training_data_mse}\")\n"
   ]
  },
  {
   "cell_type": "code",
   "execution_count": 18,
   "metadata": {},
   "outputs": [
    {
     "name": "stdout",
     "output_type": "stream",
     "text": [
      "Testing Data MSE: 309862009.2125366\n"
     ]
    }
   ],
   "source": [
    "y_pred = model.predict(X_test)\n",
    "\n",
    "# Assuming y_train is already defined\n",
    "testing_data_mse = mean_squared_error(y_test, y_pred)\n",
    "print(f\"Testing Data MSE: {testing_data_mse}\")"
   ]
  },
  {
   "cell_type": "code",
   "execution_count": 19,
   "metadata": {},
   "outputs": [
    {
     "name": "stdout",
     "output_type": "stream",
     "text": [
      "Mean Absolute Error: 2271.8015800000003\n",
      "Mean Squared Error: 309862009.2125366\n",
      "Root Mean Squared Error: 17602.897750442582\n"
     ]
    }
   ],
   "source": [
    "# Evaluate the model\n",
    "mae = mean_absolute_error(y_test, y_pred)\n",
    "mse = mean_squared_error(y_test, y_pred)\n",
    "rmse = np.sqrt(mse)\n",
    "\n",
    "print(f\"Mean Absolute Error: {mae}\")\n",
    "print(f\"Mean Squared Error: {mse}\")\n",
    "print(f\"Root Mean Squared Error: {rmse}\")\n"
   ]
  },
  {
   "cell_type": "code",
   "execution_count": 20,
   "metadata": {},
   "outputs": [
    {
     "data": {
      "image/png": "[encoded data removed]",
      "text/plain": [
       "<Figure size 800x600 with 1 Axes>"
      ]
     },
     "metadata": {},
     "output_type": "display_data"
    }
   ],
   "source": [
    "plt.figure(figsize=(8, 6))\n",
    "sns.scatterplot(x=y_test, y=y_pred)\n",
    "plt.xlabel(\"Actual Closing Ranks\")\n",
    "plt.ylabel(\"Predicted Closing Ranks\")\n",
    "plt.title(\"Actual vs Predicted Closing Ranks\")\n",
    "plt.show()"
   ]
  },
  {
   "cell_type": "code",
   "execution_count": 21,
   "metadata": {},
   "outputs": [
    {
     "data": {
      "image/png": "[encoded data removed]",
      "text/plain": [
       "<Figure size 1200x600 with 1 Axes>"
      ]
     },
     "metadata": {},
     "output_type": "display_data"
    }
   ],
   "source": [
    "importances = model.feature_importances_\n",
    "feature_names = X.columns\n",
    "plt.figure(figsize=(12, 6))\n",
    "sns.barplot(x=importances, y=feature_names)\n",
    "plt.title(\"Feature Importance\")\n",
    "plt.show()"
   ]
  },
  {
   "cell_type": "code",
   "execution_count": null,
   "metadata": {},
   "outputs": [],
   "source": []
  },
  {
   "cell_type": "code",
   "execution_count": null,
   "metadata": {},
   "outputs": [],
   "source": []
  }
 ],
 "metadata": {
  "kernelspec": {
   "display_name": "Python 3",
   "language": "python",
   "name": "python3"
  },
  "language_info": {
   "codemirror_mode": {
    "name": "ipython",
    "version": 3
   },
   "file_extension": ".py",
   "mimetype": "text/x-python",
   "name": "python",
   "nbconvert_exporter": "python",
   "pygments_lexer": "ipython3",
   "version": "3.13.1"
  }
 },
 "nbformat": 4,
 "nbformat_minor": 2
}
